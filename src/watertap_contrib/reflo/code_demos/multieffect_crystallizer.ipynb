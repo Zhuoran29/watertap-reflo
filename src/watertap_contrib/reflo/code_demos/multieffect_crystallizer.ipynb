{
 "cells": [
  {
   "cell_type": "markdown",
   "metadata": {
    "rise": {
     "theme": "sky"
    }
   },
   "source": [
    "<a href='https://jupyter.org/'>Jupyter Notebook 2</a>"
   ]
  },
  {
   "cell_type": "markdown",
   "metadata": {
    "slideshow": {
     "slide_type": "slide"
    }
   },
   "source": [
    "## Multi-effect crystallizer model"
   ]
  },
  {
   "cell_type": "markdown",
   "metadata": {
    "slideshow": {
     "slide_type": "slide"
    }
   },
   "source": [
    "### Diagram of a 4-effect evaporative crystallizer exteded from WaterTAP crystallizer model. \n",
    "##### (The optimized operating temperature and pressure of each effect for the produced water case are labelled.)\n",
    "<p align=\"center\">\n",
    "  <img src=\"multieffect_cryst.png\" width=\"80%\">\n",
    "</p>"
   ]
  },
  {
   "cell_type": "markdown",
   "metadata": {},
   "source": [
    "#### Import packages"
   ]
  },
  {
   "cell_type": "code",
   "execution_count": 35,
   "metadata": {},
   "outputs": [],
   "source": [
    "from watertap_contrib.reflo.analysis.case_studies.KBHDP.components.multi_effect_crystallizer import (\n",
    "    build_mec,\n",
    "    build_system,\n",
    "    init_system,\n",
    "    display_mec_streams,\n",
    "    set_mec_scaling,\n",
    "    add_mec_costing,\n",
    "    get_model_performance,\n",
    "    set_system_operating_conditions,\n",
    "    display_mec_dof,\n",
    ")\n",
    "\n",
    "from idaes.core.solvers import get_solver\n",
    "from pyomo.environ import (\n",
    "    assert_optimal_termination\n",
    ")"
   ]
  },
  {
   "cell_type": "markdown",
   "metadata": {},
   "source": [
    "#### Create a feed flow of crystallizer with 0.36 MGD and 127 g/L TDS"
   ]
  },
  {
   "cell_type": "code",
   "execution_count": 36,
   "metadata": {},
   "outputs": [
    {
     "name": "stdout",
     "output_type": "stream",
     "text": [
      "2025-01-27 19:29:15 [INFO] idaes.init.fs.feed: Initialization Complete.\n",
      "2025-01-27 19:29:15 [INFO] idaes.init.fs.feed: Initialization Complete.\n",
      "2025-01-27 19:29:15 [INFO] idaes.init.fs.MEC.unit.effects[1].effect.heating_steam: fs.MEC.unit.effects[1].effect.heating_steam State Released.\n",
      "2025-01-27 19:29:15 [WARNING] idaes.watertap.property_models.water_prop_pack: While using the calculate_state method on fs.MEC.unit.effects[1].effect.heating_steam[0.0], variable flow_mass_phase_comp was provided as an argument in var_args, but it does not have a scaling factor. This suggests that the calculate_scaling_factor method has not been used or the variable was created on demand after the scaling factors were calculated. It is recommended to touch all relevant variables (i.e. call them or set an initial value) before using the calculate_scaling_factor method.\n",
      "2025-01-27 19:29:15 [WARNING] idaes.watertap.property_models.water_prop_pack: While using the calculate_state method on fs.MEC.unit.effects[1].effect.heating_steam[0.0], variable pressure was provided as an argument in var_args, but it does not have a scaling factor. This suggests that the calculate_scaling_factor method has not been used or the variable was created on demand after the scaling factors were calculated. It is recommended to touch all relevant variables (i.e. call them or set an initial value) before using the calculate_scaling_factor method.\n",
      "2025-01-27 19:29:15 [WARNING] idaes.watertap.property_models.water_prop_pack: While using the calculate_state method on fs.MEC.unit.effects[1].effect.heating_steam[0.0], variable pressure_sat was provided as an argument in var_args, but it does not have a scaling factor. This suggests that the calculate_scaling_factor method has not been used or the variable was created on demand after the scaling factors were calculated. It is recommended to touch all relevant variables (i.e. call them or set an initial value) before using the calculate_scaling_factor method.\n",
      "2025-01-27 19:29:16 [INFO] idaes.init.fs.MEC.unit.effects[1].effect.heating_steam: fs.MEC.unit.effects[1].effect.heating_steam State Released.\n",
      "WARNING: model contains export suffix 'scaling_factor' that contains 96\n",
      "component keys that are not exported as part of the NL file.  Skipping.\n",
      "WARNING: model contains export suffix 'scaling_factor' that contains 16 keys\n",
      "that are not Var, Constraint, Objective, or the model.  Skipping.\n",
      "WARNING: model contains export suffix 'scaling_factor' that contains 96\n",
      "component keys that are not exported as part of the NL file.  Skipping.\n",
      "WARNING: model contains export suffix 'scaling_factor' that contains 16 keys\n",
      "that are not Var, Constraint, Objective, or the model.  Skipping.\n",
      "2025-01-27 19:29:17 [INFO] idaes.init.fs.MEC.product: Initialization Step Complete.\n",
      "2025-01-27 19:29:17 [INFO] idaes.init.fs.product: Initialization Complete.\n",
      "2025-01-27 19:29:17 [INFO] idaes.init.fs.MEC.solids: Initialization Step Complete.\n",
      "2025-01-27 19:29:17 [INFO] idaes.init.fs.solids: Initialization Complete.\n",
      "2025-01-27 19:29:17 [WARNING] idaes.core.base.costing_base: flow_expr is an expression with a lower bound of less than zero. Costing requires that all flows have a lower bound equal to or greater than zero to avoid negative costs.\n",
      "WARNING: model contains export suffix 'scaling_factor' that contains 91\n",
      "component keys that are not exported as part of the NL file.  Skipping.\n",
      "WARNING: model contains export suffix 'scaling_factor' that contains 16 keys\n",
      "that are not Var, Constraint, Objective, or the model.  Skipping.\n"
     ]
    }
   ],
   "source": [
    "solver = get_solver()\n",
    "m = build_system()\n",
    "blk = m.fs.MEC\n",
    "\n",
    "set_system_operating_conditions(m, blk, Qin=0.35587876, tds=127)\n",
    "init_system(m, blk)\n",
    "\n",
    "results = solver.solve(m)\n",
    "assert_optimal_termination(results)\n"
   ]
  },
  {
   "cell_type": "markdown",
   "metadata": {},
   "source": [
    "#### Retreive the overall performance and individual performance for each effect"
   ]
  },
  {
   "cell_type": "code",
   "execution_count": 37,
   "metadata": {},
   "outputs": [],
   "source": [
    "data_table, overall_performance = get_model_performance(m)"
   ]
  },
  {
   "cell_type": "code",
   "execution_count": 38,
   "metadata": {},
   "outputs": [
    {
     "name": "stdout",
     "output_type": "stream",
     "text": [
      "Capacity (m3/day): 1405.5841276680067\n",
      "Feed brine salinity (g/L): 121.7200368218603\n",
      "Total brine disposed (kg/s): 17.572169022630547\n",
      "Total water production (kg/s): 12.950526092920779\n",
      "Total solids collected (kg/s): 0.990090996110949\n",
      "Total waste water remained (kg/s): 3.6315516135988184\n",
      "Initial thermal energy consumption (kW): 9462.819985918708\n",
      "Overall STEC (kWh/m3 feed): 161.57530182049047\n",
      "Total heat transfer area (m2): 852.4583216787306\n"
     ]
    }
   ],
   "source": [
    "for i,v in overall_performance.items():\n",
    "    print(f'{i}: {v}')"
   ]
  },
  {
   "cell_type": "code",
   "execution_count": 39,
   "metadata": {},
   "outputs": [
    {
     "name": "stdout",
     "output_type": "stream",
     "text": [
      "                                             Effect 1     Effect 2  \\\n",
      "Feed mass flow rate (kg/s)                   4.931900     4.499194   \n",
      "Feed volumetric flow rate (L/s)              4.565959     4.165359   \n",
      "Feed salinities (g/L)                      121.720037   121.720037   \n",
      "Operating temperature (C)                   86.332541    71.713554   \n",
      "Vapor condensation temperature (C)          78.776244    64.835190   \n",
      "Operating pressure (bar)                     0.450000     0.250000   \n",
      "Water production (kg/s)                      3.648270     3.316679   \n",
      "Solid production (kg/s)                      0.277884     0.253504   \n",
      "Liquid waste (kg/s)                          1.005746     0.929011   \n",
      "Liquid waste volumetric flow rate (L/s)      0.857434     0.788587   \n",
      "Liquid waste salinity (g/L)                 10.000000    10.000000   \n",
      "Thermal energy requirement (kW)           9462.819986  8477.880082   \n",
      "Thermal energy available from vapor (kW)  8477.880082  7819.850693   \n",
      "Vapor enthalpy (kJ)                       8362.218900  7724.376932   \n",
      "STEC (kWh/m3 feed)                         575.686510   565.369462   \n",
      "Heat transfer area (m2)                     84.332741   206.423085   \n",
      "\n",
      "                                             Effect 3     Effect 4  \n",
      "Feed mass flow rate (kg/s)                   4.172633     3.968442  \n",
      "Feed volumetric flow rate (L/s)              3.863029     3.673988  \n",
      "Feed salinities (g/L)                      121.720037   121.720037  \n",
      "Operating temperature (C)                   67.371411    50.072369  \n",
      "Vapor condensation temperature (C)          60.695015    44.315967  \n",
      "Operating pressure (bar)                     0.208000     0.095000  \n",
      "Water production (kg/s)                      3.073010     2.912567  \n",
      "Solid production (kg/s)                      0.235104     0.223599  \n",
      "Liquid waste (kg/s)                          0.864519     0.832275  \n",
      "Liquid waste volumetric flow rate (L/s)      0.732850     0.701491  \n",
      "Liquid waste salinity (g/L)                 10.000000    10.000000  \n",
      "Thermal energy requirement (kW)           7819.850693  7275.758737  \n",
      "Thermal energy available from vapor (kW)  7275.758737  7007.503844  \n",
      "Vapor enthalpy (kJ)                       7189.941730  6937.450300  \n",
      "STEC (kWh/m3 feed)                         562.299915   550.095450  \n",
      "Heat transfer area (m2)                    356.918498   204.783998  \n"
     ]
    }
   ],
   "source": [
    "print(data_table)"
   ]
  },
  {
   "cell_type": "markdown",
   "metadata": {},
   "source": [
    "### Optimization Scenario\n",
    " Object: Minimize heat exchangers area\n",
    "\n",
    " Constraint 1:  Operating pressure/temperature is decreasing across the effects\n",
    " \n",
    " Constraint 2:  The minimnum temperature difference between effects is 12 degree C"
   ]
  },
  {
   "cell_type": "code",
   "execution_count": 40,
   "metadata": {},
   "outputs": [
    {
     "name": "stdout",
     "output_type": "stream",
     "text": [
      "WARNING: model contains export suffix 'scaling_factor' that contains 87\n",
      "component keys that are not exported as part of the NL file.  Skipping.\n",
      "WARNING: model contains export suffix 'scaling_factor' that contains 16 keys\n",
      "that are not Var, Constraint, Objective, or the model.  Skipping.\n"
     ]
    }
   ],
   "source": [
    "from pyomo.environ import Constraint, Objective, TerminationCondition\n",
    "\n",
    "effs = {i: m.fs.MEC.unit.effects[i].effect for i in m.fs.MEC.unit.Effects}\n",
    "# Unfix variables and set lower bound of the last effect\n",
    "effs[1].pressure_operating.unfix()\n",
    "effs[2].pressure_operating.unfix()\n",
    "effs[3].pressure_operating.unfix()\n",
    "effs[4].pressure_operating.unfix()\n",
    "effs[4].pressure_operating.setlb(0.2 * 1e5)\n",
    "\n",
    "\n",
    "# Add constraint 1\n",
    "@m.Constraint(m.fs.MEC.unit.Effects,\n",
    "              doc=\"Pressure decreasing\")\n",
    "def pressure_bound(b,j):\n",
    "    if j <4:\n",
    "        return effs[j+1].pressure_operating <= effs[j].pressure_operating\n",
    "    else:\n",
    "        return Constraint.Skip\n",
    "\n",
    "# Add constraint 2\n",
    "@m.Constraint(m.fs.MEC.unit.Effects,\n",
    "              doc=\"Temperature difference\")\n",
    "def temp_bound(b,j):\n",
    "    if j < 4:\n",
    "        return (\n",
    "            effs[j+1].temperature_operating\n",
    "            >= effs[j].temperature_operating - 12\n",
    "        )\n",
    "    else:\n",
    "        return Constraint.Skip\n",
    "\n",
    "total_area = sum(effs[i].heat_exchanger_area for i in m.fs.MEC.unit.Effects)\n",
    "\n",
    "# Optimize the heat transfer area\n",
    "m.fs.objective = Objective(expr=total_area)\n",
    "\n",
    "\n",
    "optimization_results = solver.solve(m, tee=False)\n",
    "assert (\n",
    "    optimization_results.solver.termination_condition\n",
    "    == TerminationCondition.optimal\n",
    ")\n",
    "data_table2, overall_performance2 = get_model_performance(m)"
   ]
  },
  {
   "cell_type": "markdown",
   "metadata": {},
   "source": [
    "#### Derive new operational point based on the optimization results"
   ]
  },
  {
   "cell_type": "code",
   "execution_count": 41,
   "metadata": {},
   "outputs": [
    {
     "name": "stdout",
     "output_type": "stream",
     "text": [
      "                                              Effect 1     Effect 2  \\\n",
      "Feed mass flow rate (kg/s)                    5.147810     4.542344   \n",
      "Feed volumetric flow rate (L/s)               4.765849     4.205307   \n",
      "Feed salinities (g/L)                       121.720037   121.720037   \n",
      "Operating temperature (C)                   100.000004    90.176230   \n",
      "Vapor condensation temperature (C)           91.759108    82.434266   \n",
      "Operating pressure (bar)                      0.747236     0.521112   \n",
      "Water production (kg/s)                       3.821554     3.363366   \n",
      "Solid production (kg/s)                       0.290050     0.255935   \n",
      "Liquid waste (kg/s)                           1.036206     0.923042   \n",
      "Liquid waste volumetric flow rate (L/s)       0.886753     0.787784   \n",
      "Liquid waste salinity (g/L)                 327.091700   324.879833   \n",
      "Thermal energy requirement (kW)           10041.332265  8756.285544   \n",
      "Thermal energy available from vapor (kW)   8756.285544  7785.329590   \n",
      "Vapor enthalpy (kJ)                        8623.704245  7675.987250   \n",
      "STEC (kWh/m3 feed)                          585.259650   578.388570   \n",
      "Heat transfer area (m2)                     100.577390   219.854359   \n",
      "\n",
      "                                             Effect 3     Effect 4  \n",
      "Feed mass flow rate (kg/s)                   4.097121     3.784895  \n",
      "Feed volumetric flow rate (L/s)              3.793119     3.504060  \n",
      "Feed salinities (g/L)                      121.720037   121.720037  \n",
      "Operating temperature (C)                   78.458996    66.458996  \n",
      "Vapor condensation temperature (C)          71.270881    59.825740  \n",
      "Operating pressure (bar)                     0.329833     0.200000  \n",
      "Water production (kg/s)                      3.024972     2.786906  \n",
      "Solid production (kg/s)                      0.230849     0.213257  \n",
      "Liquid waste (kg/s)                          0.841299     0.784732  \n",
      "Liquid waste volumetric flow rate (L/s)      0.715593     0.665022  \n",
      "Liquid waste salinity (g/L)                322.598720   320.676714  \n",
      "Thermal energy requirement (kW)           7785.329590  7085.061556  \n",
      "Thermal energy available from vapor (kW)  7085.061556  6604.131843  \n",
      "Vapor enthalpy (kJ)                       6993.970640  6526.814995  \n",
      "STEC (kWh/m3 feed)                         570.135431   561.654956  \n",
      "Heat transfer area (m2)                    199.321575   202.608799  \n"
     ]
    }
   ],
   "source": [
    "print(data_table2)"
   ]
  }
 ],
 "metadata": {
  "kernelspec": {
   "display_name": "Python 3 (ipykernel)",
   "language": "python",
   "name": "python3"
  },
  "language_info": {
   "codemirror_mode": {
    "name": "ipython",
    "version": 3
   },
   "file_extension": ".py",
   "mimetype": "text/x-python",
   "name": "python",
   "nbconvert_exporter": "python",
   "pygments_lexer": "ipython3",
   "version": "3.10.14"
  },
  "rise": {
   "align": "center",
   "footer": "<h3>World!</h3>",
   "header": "<h1>Hello</h1>",
   "height": "90%",
   "scroll": true,
   "theme": "sans",
   "width": "90%"
  }
 },
 "nbformat": 4,
 "nbformat_minor": 2
}
